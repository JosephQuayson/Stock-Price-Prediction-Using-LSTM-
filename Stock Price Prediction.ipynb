{
 "cells": [
  {
   "cell_type": "markdown",
   "metadata": {},
   "source": [
    "## Stock Price Prediction"
   ]
  },
  {
   "cell_type": "code",
   "execution_count": 1,
   "metadata": {},
   "outputs": [],
   "source": [
    "#import libaries\n",
    "import numpy as np\n",
    "import matplotlib.pyplot as plt\n",
    "import pandas as pd\n",
    "import math \n",
    "import tensorflow\n",
    "import seaborn as sns\n",
    "from tensorflow import keras\n",
    "from keras import layers , Sequential\n",
    "from keras.layers import  Dense,LSTM,Flatten,Input,Dropout,TimeDistributed,RepeatVector\n",
    "from sklearn.preprocessing import MinMaxScaler,StandardScaler\n",
    "from sklearn.metrics import  mean_squared_error"
   ]
  },
  {
   "cell_type": "code",
   "execution_count": 2,
   "metadata": {},
   "outputs": [
    {
     "data": {
      "text/plain": [
       "(5030, 7)"
      ]
     },
     "execution_count": 2,
     "metadata": {},
     "output_type": "execute_result"
    }
   ],
   "source": [
    "# Loading data \n",
    "data = pd.read_csv(r'E:\\Data Science\\RNN-LSTM\\GE.csv')\n",
    "\n",
    "# Inspecting data shape \n",
    "data.shape"
   ]
  },
  {
   "cell_type": "code",
   "execution_count": 3,
   "metadata": {},
   "outputs": [
    {
     "data": {
      "text/plain": [
       "0      2001-06-11\n",
       "1      2001-06-12\n",
       "2      2001-06-13\n",
       "3      2001-06-14\n",
       "4      2001-06-15\n",
       "          ...    \n",
       "5025   2021-06-02\n",
       "5026   2021-06-03\n",
       "5027   2021-06-04\n",
       "5028   2021-06-07\n",
       "5029   2021-06-08\n",
       "Name: Date, Length: 5030, dtype: datetime64[ns]"
      ]
     },
     "execution_count": 3,
     "metadata": {},
     "output_type": "execute_result"
    }
   ],
   "source": [
    "# Converting dates \n",
    "train_dates = pd.to_datetime(data['Date'])\n",
    "train_dates"
   ]
  },
  {
   "cell_type": "code",
   "execution_count": 5,
   "metadata": {},
   "outputs": [
    {
     "data": {
      "text/plain": [
       "['Open', 'High', 'Low', 'Close', 'Adj Close']"
      ]
     },
     "execution_count": 5,
     "metadata": {},
     "output_type": "execute_result"
    }
   ],
   "source": [
    "cols=list(data)[1:6]\n",
    "cols"
   ]
  },
  {
   "cell_type": "code",
   "execution_count": 8,
   "metadata": {},
   "outputs": [
    {
     "data": {
      "text/html": [
       "<div>\n",
       "<style scoped>\n",
       "    .dataframe tbody tr th:only-of-type {\n",
       "        vertical-align: middle;\n",
       "    }\n",
       "\n",
       "    .dataframe tbody tr th {\n",
       "        vertical-align: top;\n",
       "    }\n",
       "\n",
       "    .dataframe thead th {\n",
       "        text-align: right;\n",
       "    }\n",
       "</style>\n",
       "<table border=\"1\" class=\"dataframe\">\n",
       "  <thead>\n",
       "    <tr style=\"text-align: right;\">\n",
       "      <th></th>\n",
       "      <th>Open</th>\n",
       "      <th>High</th>\n",
       "      <th>Low</th>\n",
       "      <th>Close</th>\n",
       "      <th>Adj Close</th>\n",
       "    </tr>\n",
       "  </thead>\n",
       "  <tbody>\n",
       "    <tr>\n",
       "      <th>0</th>\n",
       "      <td>368.076935</td>\n",
       "      <td>376.538452</td>\n",
       "      <td>363.230774</td>\n",
       "      <td>364.615387</td>\n",
       "      <td>203.947662</td>\n",
       "    </tr>\n",
       "    <tr>\n",
       "      <th>1</th>\n",
       "      <td>364.615387</td>\n",
       "      <td>379.000000</td>\n",
       "      <td>355.846161</td>\n",
       "      <td>375.153839</td>\n",
       "      <td>209.842361</td>\n",
       "    </tr>\n",
       "    <tr>\n",
       "      <th>2</th>\n",
       "      <td>370.000000</td>\n",
       "      <td>379.153839</td>\n",
       "      <td>366.923065</td>\n",
       "      <td>368.076935</td>\n",
       "      <td>205.883896</td>\n",
       "    </tr>\n",
       "    <tr>\n",
       "      <th>3</th>\n",
       "      <td>375.153839</td>\n",
       "      <td>386.230774</td>\n",
       "      <td>368.076935</td>\n",
       "      <td>375.846161</td>\n",
       "      <td>210.229675</td>\n",
       "    </tr>\n",
       "    <tr>\n",
       "      <th>4</th>\n",
       "      <td>371.538452</td>\n",
       "      <td>379.615387</td>\n",
       "      <td>369.230774</td>\n",
       "      <td>375.461548</td>\n",
       "      <td>210.014481</td>\n",
       "    </tr>\n",
       "  </tbody>\n",
       "</table>\n",
       "</div>"
      ],
      "text/plain": [
       "         Open        High         Low       Close   Adj Close\n",
       "0  368.076935  376.538452  363.230774  364.615387  203.947662\n",
       "1  364.615387  379.000000  355.846161  375.153839  209.842361\n",
       "2  370.000000  379.153839  366.923065  368.076935  205.883896\n",
       "3  375.153839  386.230774  368.076935  375.846161  210.229675\n",
       "4  371.538452  379.615387  369.230774  375.461548  210.014481"
      ]
     },
     "execution_count": 8,
     "metadata": {},
     "output_type": "execute_result"
    }
   ],
   "source": [
    "\n",
    "df_training = data[cols].astype(dtype=float)\n",
    "list(df_training)\n",
    "df_training.head()"
   ]
  },
  {
   "cell_type": "code",
   "execution_count": 99,
   "metadata": {},
   "outputs": [
    {
     "data": {
      "text/plain": [
       "5"
      ]
     },
     "execution_count": 99,
     "metadata": {},
     "output_type": "execute_result"
    }
   ],
   "source": [
    "# rescaling the features \n",
    "scaler = StandardScaler()\n",
    "df_for_training_scaled = scaler.fit_transform(df_training)\n",
    "df_for_training_scaled.shape[1]"
   ]
  },
  {
   "cell_type": "code",
   "execution_count": 38,
   "metadata": {},
   "outputs": [
    {
     "name": "stdout",
     "output_type": "stream",
     "text": [
      "trainX shape: (5016, 14, 5)\n",
      "trainX shape: (5016, 1)\n"
     ]
    }
   ],
   "source": [
    "# Splitting data  \n",
    "trainX =[]\n",
    "trainY=[]\n",
    "future = 1 # number of days to predict into the next future\n",
    "past= 14 # number of past days data to predict the future \n",
    "\n",
    "\n",
    "# splitting data into trainX and trainY\n",
    "for i in range(past, len(df_for_training_scaled)):\n",
    "    trainX.append(df_for_training_scaled[i-past:i,  0:df_for_training_scaled.shape[1]])\n",
    "    trainY.append(df_for_training_scaled[i+future-1:i+future,0])\n",
    "\n",
    "trainX, trainY = np.array(trainX), np.array(trainY)\n",
    "\n",
    "print(f'trainX shape: {trainX.shape}')\n",
    "\n",
    "print(f'trainX shape: {trainX.shape}')"
   ]
  },
  {
   "cell_type": "markdown",
   "metadata": {},
   "source": [
    "## Creating and fitting the LSTM stack model"
   ]
  },
  {
   "cell_type": "code",
   "execution_count": 40,
   "metadata": {},
   "outputs": [
    {
     "name": "stdout",
     "output_type": "stream",
     "text": [
      "Model: \"sequential\"\n",
      "_________________________________________________________________\n",
      " Layer (type)                Output Shape              Param #   \n",
      "=================================================================\n",
      " lstm_2 (LSTM)               (None, 14, 64)            17920     \n",
      "                                                                 \n",
      " lstm_3 (LSTM)               (None, 6)                 1704      \n",
      "                                                                 \n",
      " dropout_1 (Dropout)         (None, 6)                 0         \n",
      "                                                                 \n",
      " dense_1 (Dense)             (None, 1)                 7         \n",
      "                                                                 \n",
      "=================================================================\n",
      "Total params: 19,631\n",
      "Trainable params: 19,631\n",
      "Non-trainable params: 0\n",
      "_________________________________________________________________\n"
     ]
    }
   ],
   "source": [
    "\n",
    "model = Sequential(\n",
    "    [LSTM(64,activation='relu',input_shape=(trainX.shape[1],trainX.shape[2]),return_sequences=True),\n",
    "     LSTM (units=6, activation='relu', return_sequences=False),\n",
    "     Dropout(0.2),\n",
    "     Dense(trainY.shape[1])]\n",
    "     \n",
    ")\n",
    "\n",
    "model.compile(\n",
    "    loss='mse',\n",
    "    optimizer='adam'\n",
    ")\n",
    "model.summary()"
   ]
  },
  {
   "cell_type": "code",
   "execution_count": 48,
   "metadata": {},
   "outputs": [
    {
     "name": "stdout",
     "output_type": "stream",
     "text": [
      "Epoch 1/15\n",
      "903/903 [==============================] - 17s 19ms/step - loss: 0.0715 - val_loss: 0.0264\n",
      "Epoch 2/15\n",
      "903/903 [==============================] - 18s 20ms/step - loss: 0.0659 - val_loss: 0.0188\n",
      "Epoch 3/15\n",
      "903/903 [==============================] - 13s 14ms/step - loss: 0.0625 - val_loss: 0.0165\n",
      "Epoch 4/15\n",
      "903/903 [==============================] - 17s 19ms/step - loss: 0.0661 - val_loss: 0.0262\n",
      "Epoch 5/15\n",
      "903/903 [==============================] - 16s 18ms/step - loss: 0.0657 - val_loss: 0.0122\n",
      "Epoch 6/15\n",
      "903/903 [==============================] - 11s 13ms/step - loss: 0.0690 - val_loss: 0.0166\n",
      "Epoch 7/15\n",
      "903/903 [==============================] - 11s 12ms/step - loss: 0.0619 - val_loss: 0.0443\n",
      "Epoch 8/15\n",
      "903/903 [==============================] - 11s 12ms/step - loss: 0.0677 - val_loss: 0.0167\n",
      "Epoch 9/15\n",
      "903/903 [==============================] - 11s 12ms/step - loss: 0.0644 - val_loss: 0.0559\n",
      "Epoch 10/15\n",
      "903/903 [==============================] - 11s 12ms/step - loss: 0.0651 - val_loss: 0.0114\n",
      "Epoch 11/15\n",
      "903/903 [==============================] - 11s 12ms/step - loss: 0.0660 - val_loss: 0.0180\n",
      "Epoch 12/15\n",
      "903/903 [==============================] - 11s 12ms/step - loss: 0.0657 - val_loss: 0.0180\n",
      "Epoch 13/15\n",
      "903/903 [==============================] - 11s 12ms/step - loss: 0.0676 - val_loss: 0.0339\n",
      "Epoch 14/15\n",
      "903/903 [==============================] - 11s 12ms/step - loss: 0.0696 - val_loss: 0.0295\n",
      "Epoch 15/15\n",
      "903/903 [==============================] - 11s 13ms/step - loss: 0.0624 - val_loss: 0.0415\n"
     ]
    }
   ],
   "source": [
    "history = model.fit(trainX,trainY, epochs=15, batch_size =5, validation_split=0.1, verbose=1)\n"
   ]
  },
  {
   "cell_type": "code",
   "execution_count": 60,
   "metadata": {},
   "outputs": [
    {
     "data": {
      "text/plain": [
       "<matplotlib.legend.Legend at 0x262cd0fe3a0>"
      ]
     },
     "execution_count": 60,
     "metadata": {},
     "output_type": "execute_result"
    },
    {
     "data": {
      "image/png": "[encoded data removed]",
      "text/plain": [
       "<Figure size 432x288 with 1 Axes>"
      ]
     },
     "metadata": {
      "needs_background": "light"
     },
     "output_type": "display_data"
    }
   ],
   "source": [
    "plt.plot(history.history['loss'],label='train loss')\n",
    "plt.plot(history.history['val_loss'], label= 'validation loss')\n",
    "plt.legend(loc='lower left')"
   ]
  },
  {
   "cell_type": "code",
   "execution_count": 109,
   "metadata": {},
   "outputs": [
    {
     "name": "stdout",
     "output_type": "stream",
     "text": [
      "3/3 [==============================] - 0s 7ms/step\n"
     ]
    }
   ],
   "source": [
    "# forcasting the stock price for the next ninety days \n",
    "n_future = 90\n",
    "\n",
    "forecast_period = pd.date_range(start=list(train_dates)[-1], periods= n_future, freq ='1d').tolist()\n",
    "\n",
    "forecast = model.predict(trainX[-n_future:]) #forecast\n"
   ]
  },
  {
   "cell_type": "code",
   "execution_count": 110,
   "metadata": {},
   "outputs": [],
   "source": [
    "forecast_copies = np.repeat(forecast, df_training.shape[1], axis=-1)\n",
    "y_predict_future = scaler.inverse_transform(forecast_copies)[:,0]\n",
    "# y_predict_future[0]\n"
   ]
  },
  {
   "cell_type": "code",
   "execution_count": 111,
   "metadata": {},
   "outputs": [],
   "source": [
    "forecast_dates= []\n",
    "for time in forecast_period:\n",
    "    forecast_dates.append(time.date())\n",
    "\n",
    "\n",
    "df_forecast = pd.DataFrame({'Date':np.array(forecast_dates), 'Open':y_predict_future})\n",
    "\n",
    "df_forecast['Date'] = pd.to_datetime(df_forecast['Date'])"
   ]
  },
  {
   "cell_type": "code",
   "execution_count": 112,
   "metadata": {},
   "outputs": [
    {
     "name": "stderr",
     "output_type": "stream",
     "text": [
      "C:\\Users\\colombia\\AppData\\Local\\Temp\\ipykernel_13204\\3296328717.py:2: SettingWithCopyWarning: \n",
      "A value is trying to be set on a copy of a slice from a DataFrame.\n",
      "Try using .loc[row_indexer,col_indexer] = value instead\n",
      "\n",
      "See the caveats in the documentation: https://pandas.pydata.org/pandas-docs/stable/user_guide/indexing.html#returning-a-view-versus-a-copy\n",
      "  original['Date'] = pd.to_datetime(original['Date'])\n"
     ]
    }
   ],
   "source": [
    "original = data[['Date','Open']]\n",
    "original['Date'] = pd.to_datetime(original['Date'])\n",
    "original = original.loc[original['Date']>='2020-05-1']"
   ]
  },
  {
   "cell_type": "code",
   "execution_count": 98,
   "metadata": {},
   "outputs": [
    {
     "name": "stderr",
     "output_type": "stream",
     "text": [
      "c:\\Users\\colombia\\AppData\\Local\\Programs\\Python\\Python39\\lib\\site-packages\\seaborn\\_decorators.py:36: FutureWarning: Pass the following variables as keyword args: x, y. From version 0.12, the only valid positional argument will be `data`, and passing other arguments without an explicit keyword will result in an error or misinterpretation.\n",
      "  warnings.warn(\n",
      "c:\\Users\\colombia\\AppData\\Local\\Programs\\Python\\Python39\\lib\\site-packages\\seaborn\\_decorators.py:36: FutureWarning: Pass the following variables as keyword args: x, y. From version 0.12, the only valid positional argument will be `data`, and passing other arguments without an explicit keyword will result in an error or misinterpretation.\n",
      "  warnings.warn(\n"
     ]
    },
    {
     "data": {
      "text/plain": [
       "<AxesSubplot:xlabel='Date', ylabel='Open'>"
      ]
     },
     "execution_count": 98,
     "metadata": {},
     "output_type": "execute_result"
    },
    {
     "data": {
      "image/png": "[encoded data removed]",
      "text/plain": [
       "<Figure size 432x288 with 1 Axes>"
      ]
     },
     "metadata": {
      "needs_background": "light"
     },
     "output_type": "display_data"
    }
   ],
   "source": [
    "sns.lineplot(original['Date'], original['Open'],label='Previous data')\n",
    "sns.lineplot(df_forecast['Date'], df_forecast['Open'],label='Prediction')"
   ]
  }
 ],
 "metadata": {
  "kernelspec": {
   "display_name": "Python 3.9.13 64-bit",
   "language": "python",
   "name": "python3"
  },
  "language_info": {
   "codemirror_mode": {
    "name": "ipython",
    "version": 3
   },
   "file_extension": ".py",
   "mimetype": "text/x-python",
   "name": "python",
   "nbconvert_exporter": "python",
   "pygments_lexer": "ipython3",
   "version": "3.9.13"
  },
  "orig_nbformat": 4,
  "vscode": {
   "interpreter": {
    "hash": "e5f2c6d78939375bac735ba47d7542b6ffbbdcf3f4f3c66944dbe91474bff9ac"
   }
  }
 },
 "nbformat": 4,
 "nbformat_minor": 2
}
